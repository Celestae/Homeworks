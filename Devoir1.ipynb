{
 "cells": [
  {
   "cell_type": "code",
   "execution_count": 82,
   "metadata": {},
   "outputs": [],
   "source": [
    "import pandas as pd\n",
    "import numpy as np   \n",
    "import matplotlib.pyplot as plt\n",
    "import sklearn as sk\n",
    "import seaborn as sns\n",
    "%matplotlib inline\n",
    "from sklearn.datasets import make_classification\n",
    "from sklearn.model_selection import train_test_split\n",
    "from sklearn.svm import SVC "
   ]
  },
  {
   "cell_type": "code",
   "execution_count": 83,
   "metadata": {},
   "outputs": [],
   "source": [
    "import sys\n",
    "sys.path += ['80-629/week3-Supervised/']"
   ]
  },
  {
   "cell_type": "code",
   "execution_count": 84,
   "metadata": {},
   "outputs": [],
   "source": [
    "from utils import generate_data, plot_predictions, plot_svc_decision_function"
   ]
  },
  {
   "cell_type": "markdown",
   "metadata": {},
   "source": [
    "# Question 2 - Classification"
   ]
  },
  {
   "cell_type": "markdown",
   "metadata": {},
   "source": [
    "## Question 2.1"
   ]
  },
  {
   "cell_type": "code",
   "execution_count": 85,
   "metadata": {},
   "outputs": [],
   "source": [
    "data = np.load(\"a22_devoir_q2-classification.npz\") \n",
    "X = data[\"X\"]\n",
    "y = data[\"y\"]"
   ]
  },
  {
   "cell_type": "code",
   "execution_count": null,
   "metadata": {},
   "outputs": [],
   "source": []
  },
  {
   "cell_type": "code",
   "execution_count": 86,
   "metadata": {},
   "outputs": [
    {
     "name": "stdout",
     "output_type": "stream",
     "text": [
      "[0 2 0 2 2 0 0 2 1 0 2 1 1 2 2 0 2 1 2 1 1 0 1 1 1 0 1 0 1 1 0 0 1 2 2 2 2\n",
      " 0 2 2 0 2 2 2 1 0 1 0 1 2 0 1 0 0 0 2 1 2 2 2 1 1 1 1 0 0 0 2 1 0 0 1 0 2\n",
      " 0 0 0 1 0 1 1 2 2 0 2 2 0 2 0 2 0 1 1 2 0 1 2 1 1 1]\n"
     ]
    }
   ],
   "source": [
    "print(y)"
   ]
  },
  {
   "cell_type": "code",
   "execution_count": 87,
   "metadata": {},
   "outputs": [
    {
     "name": "stdout",
     "output_type": "stream",
     "text": [
      "[[ 0.15494743  0.37816252]\n",
      " [ 4.6781908   3.88829842]\n",
      " [ 0.06651722  0.3024719 ]\n",
      " [ 4.44780833  5.02608254]\n",
      " [ 4.77223375  5.00873958]\n",
      " [ 1.53277921  1.46935877]\n",
      " [ 0.17742614 -0.40178094]\n",
      " [ 4.68207696  5.33821665]\n",
      " [ 3.26816936  1.23011275]\n",
      " [-1.70627019  1.9507754 ]\n",
      " [ 5.5940149   5.15847131]\n",
      " [ 0.13905245  1.57791809]\n",
      " [ 2.50844214  2.11119275]\n",
      " [ 4.95077374  4.66826086]\n",
      " [ 6.08161797  5.66826397]\n",
      " [ 0.14404357  1.45427351]\n",
      " [ 4.9658792   5.85667136]\n",
      " [ 2.42111906  2.88331001]\n",
      " [ 5.28829541  4.89585062]\n",
      " [ 0.45814821  1.27554819]\n",
      " [ 0.34512589  2.30887379]\n",
      " [-0.51080514 -1.18063218]\n",
      " [ 1.81241247  2.96495855]\n",
      " [ 2.10351246  0.47278486]\n",
      " [ 2.0345496   2.55985975]\n",
      " [ 0.8644362  -0.74216502]\n",
      " [ 0.89523458  3.33366761]\n",
      " [ 1.86755799 -0.97727788]\n",
      " [-0.24772476  2.85123973]\n",
      " [ 4.32472605 -0.52163859]\n",
      " [ 1.23029068  1.20237985]\n",
      " [ 2.26975462 -1.45436567]\n",
      " [-0.25968511  4.41543178]\n",
      " [ 5.31261573  4.19897117]\n",
      " [ 5.38589528  5.41175208]\n",
      " [ 4.49989233  4.22761445]\n",
      " [ 4.35357155  5.13352543]\n",
      " [-0.81314628 -1.7262826 ]\n",
      " [ 4.48287858  5.34079726]\n",
      " [ 6.19157239  5.47223974]\n",
      " [-2.55298982  0.6536186 ]\n",
      " [ 5.56331796  4.46003425]\n",
      " [ 4.34204629  4.7692077 ]\n",
      " [ 5.46042941  5.15936383]\n",
      " [ 1.94735726  3.48957885]\n",
      " [ 0.97873798  2.2408932 ]\n",
      " [ 3.73237829  4.34383376]\n",
      " [ 0.95008842 -0.15135721]\n",
      " [ 1.51575003  4.17880574]\n",
      " [ 5.19800336  4.45346925]\n",
      " [-0.34791215  0.15634897]\n",
      " [ 3.20910103 -0.35223873]\n",
      " [-0.38732682 -0.30230275]\n",
      " [ 1.76405235  0.40015721]\n",
      " [ 0.3130677  -0.85409574]\n",
      " [ 4.98035859  4.41595325]\n",
      " [ 2.19849366 -0.80436553]\n",
      " [ 4.59829517  4.65522511]\n",
      " [ 4.38728224  5.42218149]\n",
      " [ 5.42841531  4.6744872 ]\n",
      " [ 0.84726967  4.27389559]\n",
      " [ 4.30133844  2.85906699]\n",
      " [ 0.87957153  0.37881778]\n",
      " [-0.4057275   2.95409506]\n",
      " [-1.63019835  0.46278226]\n",
      " [-0.63432209 -0.36274117]\n",
      " [-0.02818223  0.42833187]\n",
      " [ 4.62762259  4.58678073]\n",
      " [ 1.09799494  2.70368459]\n",
      " [-1.04855297 -1.42001794]\n",
      " [-0.89546656  0.3869025 ]\n",
      " [ 4.38441304  3.72077219]\n",
      " [-0.67246045 -0.35955316]\n",
      " [ 5.26163833  4.91422683]\n",
      " [-0.10321885  0.4105985 ]\n",
      " [-1.61389785 -0.21274028]\n",
      " [-1.25279536  0.77749036]\n",
      " [ 0.20816147  4.36509743]\n",
      " [-0.88778575 -1.98079647]\n",
      " [ 2.0646383  -0.14910119]\n",
      " [ 0.48850101  1.54774584]\n",
      " [ 5.08333675  5.31751572]\n",
      " [ 5.4747104   5.04377562]\n",
      " [ 0.76103773  0.12167502]\n",
      " [ 4.82300304  4.31252435]\n",
      " [ 4.42626567  4.78108998]\n",
      " [-0.50965218 -0.4380743 ]\n",
      " [ 4.75098377  5.96476603]\n",
      " [ 0.44386323  0.33367433]\n",
      " [ 4.6302185   5.7715073 ]\n",
      " [ 1.49407907 -0.20515826]\n",
      " [ 1.0326712   1.58424801]\n",
      " [ 0.19380428  0.6317255 ]\n",
      " [ 4.2543712   5.21969585]\n",
      " [ 0.04575852 -0.18718385]\n",
      " [-0.10612893  3.08167759]\n",
      " [ 4.54358889  5.55850814]\n",
      " [ 1.69036814  2.10298405]\n",
      " [ 2.92087795  1.26748486]\n",
      " [ 2.59363584  1.69347437]]\n",
      "[0.15494743 0.37816252]\n"
     ]
    }
   ],
   "source": [
    "print(X)\n",
    "print(X[0])"
   ]
  },
  {
   "cell_type": "code",
   "execution_count": 88,
   "metadata": {},
   "outputs": [
    {
     "data": {
      "text/plain": [
       "(100, 2)"
      ]
     },
     "execution_count": 88,
     "metadata": {},
     "output_type": "execute_result"
    }
   ],
   "source": [
    "X.shape"
   ]
  },
  {
   "cell_type": "code",
   "execution_count": 89,
   "metadata": {},
   "outputs": [
    {
     "data": {
      "text/plain": [
       "2.2693209543318646"
      ]
     },
     "execution_count": 89,
     "metadata": {},
     "output_type": "execute_result"
    }
   ],
   "source": [
    "X.mean()"
   ]
  },
  {
   "cell_type": "code",
   "execution_count": 90,
   "metadata": {},
   "outputs": [],
   "source": [
    "x1, x2 = zip(*X)\n"
   ]
  },
  {
   "cell_type": "code",
   "execution_count": 91,
   "metadata": {},
   "outputs": [
    {
     "data": {
      "text/plain": [
       "(array([ 4.,  8., 17.,  7., 11.,  6.,  8.,  9., 18., 12.]),\n",
       " array([-1.98079647, -1.18624022, -0.39168397,  0.40287228,  1.19742853,\n",
       "         1.99198478,  2.78654103,  3.58109728,  4.37565353,  5.17020978,\n",
       "         5.96476603]),\n",
       " <BarContainer object of 10 artists>)"
      ]
     },
     "execution_count": 91,
     "metadata": {},
     "output_type": "execute_result"
    },
    {
     "data": {
      "image/png": "[encoded data removed]",
      "text/plain": [
       "<Figure size 432x288 with 2 Axes>"
      ]
     },
     "metadata": {
      "needs_background": "light"
     },
     "output_type": "display_data"
    }
   ],
   "source": [
    "fig, (ax1, ax2) = plt.subplots(2)\n",
    "ax1.hist(x1)\n",
    "ax2.hist(x2)"
   ]
  },
  {
   "cell_type": "code",
   "execution_count": 92,
   "metadata": {},
   "outputs": [
    {
     "data": {
      "text/plain": [
       "(array([[ 2.,  7., 14., 16., 11., 10.,  3.,  9., 20.,  8.],\n",
       "        [ 2.,  6., 13., 15., 10.,  6.,  9., 11., 17., 11.]]),\n",
       " array([-2.55298982, -1.6785336 , -0.80407738,  0.07037885,  0.94483507,\n",
       "         1.81929129,  2.69374751,  3.56820373,  4.44265995,  5.31711617,\n",
       "         6.19157239]),\n",
       " <a list of 2 BarContainer objects>)"
      ]
     },
     "execution_count": 92,
     "metadata": {},
     "output_type": "execute_result"
    },
    {
     "data": {
      "image/png": "[encoded data removed]",
      "text/plain": [
       "<Figure size 432x288 with 1 Axes>"
      ]
     },
     "metadata": {
      "needs_background": "light"
     },
     "output_type": "display_data"
    }
   ],
   "source": [
    "plt.hist(X)"
   ]
  },
  {
   "cell_type": "code",
   "execution_count": 93,
   "metadata": {},
   "outputs": [
    {
     "name": "stderr",
     "output_type": "stream",
     "text": [
      "c:\\Users\\love-\\AppData\\Local\\Programs\\Python\\Python310\\lib\\site-packages\\seaborn\\_decorators.py:36: FutureWarning: Pass the following variables as keyword args: x, y. From version 0.12, the only valid positional argument will be `data`, and passing other arguments without an explicit keyword will result in an error or misinterpretation.\n",
      "  warnings.warn(\n"
     ]
    },
    {
     "data": {
      "image/png": "[encoded data removed]",
      "text/plain": [
       "<Figure size 432x288 with 1 Axes>"
      ]
     },
     "metadata": {
      "needs_background": "light"
     },
     "output_type": "display_data"
    }
   ],
   "source": [
    "sns.scatterplot(x1, x2, hue = y)\n",
    "plt.show()"
   ]
  },
  {
   "cell_type": "code",
   "execution_count": 94,
   "metadata": {},
   "outputs": [],
   "source": [
    "#(4pt) Suite `a une exploration des donn´ees, que remarquez-vous? \n",
    "## Il y a deux grands groupes que l'on peut appercevoir. \n",
    "# Que pouvez-vous dire de la performance (taux de bonne classification) de test \n",
    "# d’un mod`ele n’utilisant que des fronti`eres de d´ecision lin´eaire pour ce probl`eme?"
   ]
  },
  {
   "cell_type": "code",
   "execution_count": 95,
   "metadata": {},
   "outputs": [],
   "source": [
    "X_train, X_test, y_train, y_test = train_test_split(X, y, test_size=0.33, random_state=42)"
   ]
  },
  {
   "cell_type": "code",
   "execution_count": null,
   "metadata": {},
   "outputs": [],
   "source": []
  },
  {
   "cell_type": "code",
   "execution_count": 96,
   "metadata": {},
   "outputs": [],
   "source": [
    "def OLS(X, y):\n",
    "    # Note: on transforme simplement les cibles de {0,1} à {-1,+1}\n",
    "    Y = (X_train[1]*2)-1\n",
    "    Y = Y.reshape(2,1)\n",
    "\n",
    "    # On calcule les paramètres du modèle\n",
    "    # (c'est le même calcul que celui de la semaine dernière pour w_ols)\n",
    "    A = np.linalg.inv(np.dot(X.T, X))\n",
    "    B = np.dot(X.T, Y)\n",
    "    \n",
    "    return np.dot(A, B)\n",
    "\n",
    "# pour obtenir la frontière de décision visuellement\n",
    "def calculate_decision_boundary(W):\n",
    "    x_1 = np.linspace(-10,10) # <- pour x1;\n",
    "    \n",
    "    # Le but est donc de calculer x2 à partir de x1 et des poids.\n",
    "    x_2 = (-W[0] - W[1]*x_1) / W[2]\n",
    "    return x_1, x_2"
   ]
  },
  {
   "cell_type": "code",
   "execution_count": 97,
   "metadata": {},
   "outputs": [
    {
     "ename": "ValueError",
     "evalue": "shapes (3,67) and (2,1) not aligned: 67 (dim 1) != 2 (dim 0)",
     "output_type": "error",
     "traceback": [
      "\u001b[1;31m---------------------------------------------------------------------------\u001b[0m",
      "\u001b[1;31mValueError\u001b[0m                                Traceback (most recent call last)",
      "\u001b[1;32m~\\AppData\\Local\\Temp/ipykernel_23336/2641869053.py\u001b[0m in \u001b[0;36m<module>\u001b[1;34m\u001b[0m\n\u001b[0;32m     17\u001b[0m \u001b[1;31m# 1) On (estime) entraîne les paramètres\u001b[0m\u001b[1;33m\u001b[0m\u001b[1;33m\u001b[0m\u001b[0m\n\u001b[0;32m     18\u001b[0m \u001b[1;31m# k est le nombre de classes et dim est la dimensionalité des données\u001b[0m\u001b[1;33m\u001b[0m\u001b[1;33m\u001b[0m\u001b[0m\n\u001b[1;32m---> 19\u001b[1;33m \u001b[0mW\u001b[0m \u001b[1;33m=\u001b[0m \u001b[0mOLS\u001b[0m\u001b[1;33m(\u001b[0m\u001b[0mX_b\u001b[0m\u001b[1;33m,\u001b[0m \u001b[0mY\u001b[0m\u001b[1;33m)\u001b[0m \u001b[1;31m# dim x k\u001b[0m\u001b[1;33m\u001b[0m\u001b[1;33m\u001b[0m\u001b[0m\n\u001b[0m\u001b[0;32m     20\u001b[0m \u001b[1;33m\u001b[0m\u001b[0m\n\u001b[0;32m     21\u001b[0m \u001b[1;31m# 2) Une fois les paramètres obtenus, on peut obtenir les prédictions\u001b[0m\u001b[1;33m\u001b[0m\u001b[1;33m\u001b[0m\u001b[0m\n",
      "\u001b[1;32m~\\AppData\\Local\\Temp/ipykernel_23336/668108507.py\u001b[0m in \u001b[0;36mOLS\u001b[1;34m(X, y)\u001b[0m\n\u001b[0;32m      7\u001b[0m     \u001b[1;31m# (c'est le même calcul que celui de la semaine dernière pour w_ols)\u001b[0m\u001b[1;33m\u001b[0m\u001b[1;33m\u001b[0m\u001b[0m\n\u001b[0;32m      8\u001b[0m     \u001b[0mA\u001b[0m \u001b[1;33m=\u001b[0m \u001b[0mnp\u001b[0m\u001b[1;33m.\u001b[0m\u001b[0mlinalg\u001b[0m\u001b[1;33m.\u001b[0m\u001b[0minv\u001b[0m\u001b[1;33m(\u001b[0m\u001b[0mnp\u001b[0m\u001b[1;33m.\u001b[0m\u001b[0mdot\u001b[0m\u001b[1;33m(\u001b[0m\u001b[0mX\u001b[0m\u001b[1;33m.\u001b[0m\u001b[0mT\u001b[0m\u001b[1;33m,\u001b[0m \u001b[0mX\u001b[0m\u001b[1;33m)\u001b[0m\u001b[1;33m)\u001b[0m\u001b[1;33m\u001b[0m\u001b[1;33m\u001b[0m\u001b[0m\n\u001b[1;32m----> 9\u001b[1;33m     \u001b[0mB\u001b[0m \u001b[1;33m=\u001b[0m \u001b[0mnp\u001b[0m\u001b[1;33m.\u001b[0m\u001b[0mdot\u001b[0m\u001b[1;33m(\u001b[0m\u001b[0mX\u001b[0m\u001b[1;33m.\u001b[0m\u001b[0mT\u001b[0m\u001b[1;33m,\u001b[0m \u001b[0mY\u001b[0m\u001b[1;33m)\u001b[0m\u001b[1;33m\u001b[0m\u001b[1;33m\u001b[0m\u001b[0m\n\u001b[0m\u001b[0;32m     10\u001b[0m \u001b[1;33m\u001b[0m\u001b[0m\n\u001b[0;32m     11\u001b[0m     \u001b[1;32mreturn\u001b[0m \u001b[0mnp\u001b[0m\u001b[1;33m.\u001b[0m\u001b[0mdot\u001b[0m\u001b[1;33m(\u001b[0m\u001b[0mA\u001b[0m\u001b[1;33m,\u001b[0m \u001b[0mB\u001b[0m\u001b[1;33m)\u001b[0m\u001b[1;33m\u001b[0m\u001b[1;33m\u001b[0m\u001b[0m\n",
      "\u001b[1;32m<__array_function__ internals>\u001b[0m in \u001b[0;36mdot\u001b[1;34m(*args, **kwargs)\u001b[0m\n",
      "\u001b[1;31mValueError\u001b[0m: shapes (3,67) and (2,1) not aligned: 67 (dim 1) != 2 (dim 0)"
     ]
    }
   ],
   "source": [
    "X = X_train\n",
    "\n",
    "# On ajoute une colonne de 1 aux données\n",
    "# Ça nous permet d'apprendre le biais (w0 dans: w_1x + w0)\n",
    "X_b = np.array([np.ones(len(X)), X[:,0], X[:,1]]).T\n",
    "####\n",
    "\n",
    "Y = y_train \n",
    "X_test = X_test\n",
    "\n",
    "# Comme plus haut on ajoute une colonne de 1 aux données de test\n",
    "X_test_b = np.array([np.ones(len(X_test)), X_test[:,0], X_test[:,1]]).T\n",
    "###\n",
    "\n",
    "Y_test = y_test\n",
    "\n",
    "# 1) On (estime) entraîne les paramètres\n",
    "# k est le nombre de classes et dim est la dimensionalité des données \n",
    "W = OLS(X_b, Y) # dim x k\n",
    "\n",
    "# 2) Une fois les paramètres obtenus, on peut obtenir les prédictions \n",
    "# a) for test data\n",
    "y_x = np.dot(W.T, X_test_b.T) # valeur réelle\n",
    "pred_test = 1*(y_x>0)[0] # valeur binaire\n",
    "\n",
    "# b) Idem pour l'ensemble d'entraînement\n",
    "y_x = np.dot(W.T, X_b.T)\n",
    "pred_train = 1*(y_x>0)[0]\n",
    "\n",
    "\n",
    "# 3) On calcule aussi la frontière de décision \n",
    "#    pour pouvoir la visualiser\n",
    "line_x, line_y = calculate_decision_boundary(W)\n",
    "\n",
    "\n",
    "# 4) Rendu visuel\n",
    "plot_predictions(X,Y, X_test, Y_test, pred_train, pred_test, line_x, line_y)"
   ]
  },
  {
   "cell_type": "markdown",
   "metadata": {},
   "source": [
    "## Question 2.2"
   ]
  },
  {
   "cell_type": "code",
   "execution_count": null,
   "metadata": {},
   "outputs": [],
   "source": [
    "#(6pt) Divide your dataset into training, validation, and test sets. \n",
    "#The validation and test sets must each make up 20% of the total original dataset (so 40% in total). \n",
    "# Make sure to use this parameter upon calling the appropriate sklearn function: random state=1234. \n",
    "# Train a linear SVM on the training set for each one of these C hyperparameter values: {0.001,0.01,0.1,1,10}. \n",
    "# For each value of C, what is the performance (accuracy) of the model on the training and validation sets?\n",
    "#  Given your answer, obtain the performance of the best model on the test set.\n",
    "#  We ask that you provide the few lines of code you used to divide the data, train the model, and obtain the accuracy."
   ]
  },
  {
   "cell_type": "code",
   "execution_count": null,
   "metadata": {},
   "outputs": [],
   "source": [
    "X_train, X_test, y_train, y_test = train_test_split(X, y, test_size=0.2, random_state=1234)\n",
    "\n",
    "X_train, X_val, y_train, y_val = train_test_split(X_train, y_train, test_size=0.25, random_state=1234) # 0.25 x 0.8 = 0.2"
   ]
  },
  {
   "cell_type": "code",
   "execution_count": null,
   "metadata": {},
   "outputs": [
    {
     "name": "stdout",
     "output_type": "stream",
     "text": [
      "With a value of C:  0.001 , the accuracy of the train model is 41.66666666666667 % ans the accuracy of the  validation model is 30.0 %\n",
      "With a value of C:  0.01 , the accuracy of the train model is 83.33333333333334 % ans the accuracy of the  validation model is 90.0 %\n",
      "With a value of C:  0.1 , the accuracy of the train model is 86.66666666666667 % ans the accuracy of the  validation model is 90.0 %\n",
      "With a value of C:  1 , the accuracy of the train model is 90.0 % ans the accuracy of the  validation model is 90.0 %\n",
      "With a value of C:  10 , the accuracy of the train model is 90.0 % ans the accuracy of the  validation model is 95.0 %\n"
     ]
    }
   ],
   "source": [
    "cs = [0.001, 0.01, 0.1, 1, 10]\n",
    "for i, c in enumerate(cs):\n",
    "    model= SVC(kernel='linear', C=c)\n",
    "    model.fit(X_train, y_train)\n",
    "\n",
    "    acc_train = (sum(model.predict(X_train)==y_train)/len(y_train))*100\n",
    "    acc_validation =  (sum(model.predict(X_val)==y_val)/len(y_val)) *100 \n",
    "\n",
    "    print(\"With a value of C: \", c, \", the accuracy of the train model is\", acc_train, \"% anf<d the accuracy of the  validation model is\", acc_validation, \"%\")\n",
    "\n",
    "    \n"
   ]
  },
  {
   "cell_type": "code",
   "execution_count": null,
   "metadata": {},
   "outputs": [
    {
     "name": "stdout",
     "output_type": "stream",
     "text": [
      "With a value of C:  10 , the accuracy of the test model is 85.0 %\n"
     ]
    }
   ],
   "source": [
    "model = SVC(kernel = 'linear', C = 10)\n",
    "model.fit(X_train, y_train)\n",
    "\n",
    "acc_test =  (sum(model.predict(X_test)==y_test)/len(y_test)) *100\n",
    "\n",
    "print(\"With a value of C: \", c, \", the accuracy of the test model is\", acc_test, \"%\")"
   ]
  },
  {
   "cell_type": "markdown",
   "metadata": {},
   "source": [
    "## Question 2.3"
   ]
  },
  {
   "cell_type": "code",
   "execution_count": null,
   "metadata": {},
   "outputs": [],
   "source": [
    "#(4pt) Retrain the SVM model using 10-fold cross-validation for each of the C hyperparameter values from above. \n",
    "# For each value of C, provide the training and validation accuracies as well as the performance on the test set of the best model.\n",
    "#  Careful that you must use the same test set in both cases (previous question and this question)!\n",
    "#  We ask that you provide the few lines of codes you used to divide the data, train the model, and obtain all accuracies."
   ]
  },
  {
   "cell_type": "code",
   "execution_count": null,
   "metadata": {},
   "outputs": [],
   "source": [
    "from sklearn.model_selection import cross_validate"
   ]
  },
  {
   "cell_type": "code",
   "execution_count": null,
   "metadata": {},
   "outputs": [],
   "source": [
    "#We keep validation and train together unlike the question above\n",
    "X_train, X_test, y_train, y_test = train_test_split(X, y, test_size=0.2, random_state=1234)"
   ]
  },
  {
   "cell_type": "code",
   "execution_count": null,
   "metadata": {},
   "outputs": [
    {
     "name": "stdout",
     "output_type": "stream",
     "text": [
      "With a value of C:  0.001 , the mean accuracy of the train model is 0.3875 % and the mean accuracy of the validation model is 0.3875 %\n",
      "With a value of C:  0.01 , the mean accuracy of the train model is 0.861111111111111 % and the mean accuracy of the validation model is 0.85 %\n",
      "With a value of C:  0.1 , the mean accuracy of the train model is 0.8777777777777779 % and the mean accuracy of the validation model is 0.8625 %\n",
      "With a value of C:  1 , the mean accuracy of the train model is 0.9027777777777777 % and the mean accuracy of the validation model is 0.8625 %\n",
      "With a value of C:  10 , the mean accuracy of the train model is 0.9152777777777776 % and the mean accuracy of the validation model is 0.875 %\n"
     ]
    }
   ],
   "source": [
    "for c in cs:\n",
    "    model = SVC(kernel='linear', C=c, random_state=1234)\n",
    "    test = model.fit(X_train, y_train)\n",
    "\n",
    "    scores = cross_validate(test, X_train,  y_train, cv=10,  return_train_score=True)\n",
    "\n",
    "    #acc_train = (sum(model.predict(X_train)==y_train)/len(y_train))*100\n",
    "    #acc_validation =  (sum(model.predict(X_val)==y_val)/len(y_val)) *100 \n",
    "\n",
    "    print(\"With a value of C: \", c, \", the mean accuracy of the train model is\", scores['train_score'].mean(), '% and the mean accuracy of the validation model is', scores['test_score'].mean(), '%')"
   ]
  },
  {
   "cell_type": "code",
   "execution_count": null,
   "metadata": {},
   "outputs": [
    {
     "name": "stdout",
     "output_type": "stream",
     "text": [
      "With a value of C:  10 , the accuracy of the test model is 95.0 %\n"
     ]
    }
   ],
   "source": [
    "model = SVC(kernel = 'linear', C = 10)\n",
    "\n",
    "acc_test =  (sum(test.predict(X_test)==y_test)/len(y_test)) *100\n",
    "\n",
    "print(\"With a value of C: \", c, \", the accuracy of the test model is\", acc_test, \"%\")"
   ]
  },
  {
   "cell_type": "markdown",
   "metadata": {},
   "source": [
    "## Question 2.4 - (2pt) Explain precisely how is the validation performance evaluated when doing cross validation.\n"
   ]
  },
  {
   "cell_type": "markdown",
   "metadata": {},
   "source": [
    "## Question 2.5 - (2pt) Do you obtain a better model with cross validation or without it? Justify your answer and explain your result."
   ]
  },
  {
   "cell_type": "markdown",
   "metadata": {},
   "source": [
    "# "
   ]
  },
  {
   "cell_type": "markdown",
   "metadata": {},
   "source": [
    "# Question 3"
   ]
  },
  {
   "cell_type": "markdown",
   "metadata": {},
   "source": [
    "## Question 3.1"
   ]
  },
  {
   "cell_type": "code",
   "execution_count": 100,
   "metadata": {},
   "outputs": [
    {
     "data": {
      "text/html": [
       "<div>\n",
       "<style scoped>\n",
       "    .dataframe tbody tr th:only-of-type {\n",
       "        vertical-align: middle;\n",
       "    }\n",
       "\n",
       "    .dataframe tbody tr th {\n",
       "        vertical-align: top;\n",
       "    }\n",
       "\n",
       "    .dataframe thead th {\n",
       "        text-align: right;\n",
       "    }\n",
       "</style>\n",
       "<table border=\"1\" class=\"dataframe\">\n",
       "  <thead>\n",
       "    <tr style=\"text-align: right;\">\n",
       "      <th></th>\n",
       "      <th>Rating</th>\n",
       "      <th>Review</th>\n",
       "    </tr>\n",
       "  </thead>\n",
       "  <tbody>\n",
       "    <tr>\n",
       "      <th>0</th>\n",
       "      <td>5</td>\n",
       "      <td>I like the item pricing. My granddaughter want...</td>\n",
       "    </tr>\n",
       "    <tr>\n",
       "      <th>1</th>\n",
       "      <td>4</td>\n",
       "      <td>Love the magnet easel... great for moving to d...</td>\n",
       "    </tr>\n",
       "    <tr>\n",
       "      <th>2</th>\n",
       "      <td>5</td>\n",
       "      <td>Both sides are magnetic.  A real plus when you...</td>\n",
       "    </tr>\n",
       "    <tr>\n",
       "      <th>3</th>\n",
       "      <td>5</td>\n",
       "      <td>Bought one a few years ago for my daughter and...</td>\n",
       "    </tr>\n",
       "    <tr>\n",
       "      <th>4</th>\n",
       "      <td>4</td>\n",
       "      <td>I have a stainless steel refrigerator therefor...</td>\n",
       "    </tr>\n",
       "    <tr>\n",
       "      <th>...</th>\n",
       "      <td>...</td>\n",
       "      <td>...</td>\n",
       "    </tr>\n",
       "    <tr>\n",
       "      <th>9995</th>\n",
       "      <td>1</td>\n",
       "      <td>There are multiple shapes part like oval and t...</td>\n",
       "    </tr>\n",
       "    <tr>\n",
       "      <th>9996</th>\n",
       "      <td>5</td>\n",
       "      <td>My 2 1/2 year old loves playing with these puz...</td>\n",
       "    </tr>\n",
       "    <tr>\n",
       "      <th>9997</th>\n",
       "      <td>5</td>\n",
       "      <td>I only wish I bought this toy sooner!  It was ...</td>\n",
       "    </tr>\n",
       "    <tr>\n",
       "      <th>9998</th>\n",
       "      <td>5</td>\n",
       "      <td>My not quite 2 year old grandson took to this ...</td>\n",
       "    </tr>\n",
       "    <tr>\n",
       "      <th>9999</th>\n",
       "      <td>5</td>\n",
       "      <td>To say that my two year old loves these puzzle...</td>\n",
       "    </tr>\n",
       "  </tbody>\n",
       "</table>\n",
       "<p>10000 rows × 2 columns</p>\n",
       "</div>"
      ],
      "text/plain": [
       "      Rating                                             Review\n",
       "0          5  I like the item pricing. My granddaughter want...\n",
       "1          4  Love the magnet easel... great for moving to d...\n",
       "2          5  Both sides are magnetic.  A real plus when you...\n",
       "3          5  Bought one a few years ago for my daughter and...\n",
       "4          4  I have a stainless steel refrigerator therefor...\n",
       "...      ...                                                ...\n",
       "9995       1  There are multiple shapes part like oval and t...\n",
       "9996       5  My 2 1/2 year old loves playing with these puz...\n",
       "9997       5  I only wish I bought this toy sooner!  It was ...\n",
       "9998       5  My not quite 2 year old grandson took to this ...\n",
       "9999       5  To say that my two year old loves these puzzle...\n",
       "\n",
       "[10000 rows x 2 columns]"
      ]
     },
     "execution_count": 100,
     "metadata": {},
     "output_type": "execute_result"
    }
   ],
   "source": [
    "q3 = pd.read_csv(\"C:/Users/love-/Documents/HEC/AUT 2022/ML/reviews.tsv\", sep ='\\t', header = None, names=['Rating', 'Review'])\n",
    "q3"
   ]
  },
  {
   "cell_type": "code",
   "execution_count": 103,
   "metadata": {},
   "outputs": [],
   "source": [
    "X = q3['Rating']\n",
    "y = q3['Review']"
   ]
  },
  {
   "cell_type": "markdown",
   "metadata": {},
   "source": [
    "## Question 3.2"
   ]
  },
  {
   "cell_type": "code",
   "execution_count": 104,
   "metadata": {},
   "outputs": [],
   "source": [
    "X_train, X_test, y_train, y_test = train_test_split(X, y, test_size=0.2, random_state=1234)\n",
    "\n",
    "X_train, X_val, y_train, y_val = train_test_split(X_train, y_train, test_size=0.25, random_state=1234) # 0.25 x 0.8 = 0.2"
   ]
  },
  {
   "cell_type": "code",
   "execution_count": null,
   "metadata": {},
   "outputs": [],
   "source": []
  }
 ],
 "metadata": {
  "kernelspec": {
   "display_name": "Python 3.10.4 64-bit",
   "language": "python",
   "name": "python3"
  },
  "language_info": {
   "codemirror_mode": {
    "name": "ipython",
    "version": 3
   },
   "file_extension": ".py",
   "mimetype": "text/x-python",
   "name": "python",
   "nbconvert_exporter": "python",
   "pygments_lexer": "ipython3",
   "version": "3.10.4"
  },
  "orig_nbformat": 4,
  "vscode": {
   "interpreter": {
    "hash": "4f499ddd7e6d9fbd89b8b97faec72174c6c1dd701b140ff7d170263c1edbaf48"
   }
  }
 },
 "nbformat": 4,
 "nbformat_minor": 2
}
